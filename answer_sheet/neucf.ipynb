{
 "cells": [
  {
   "cell_type": "code",
   "execution_count": 12,
   "metadata": {},
   "outputs": [
    {
     "ename": "ImportError",
     "evalue": "No module named 'seaborn'",
     "output_type": "error",
     "traceback": [
      "\u001b[0;31m---------------------------------------------------------------------------\u001b[0m",
      "\u001b[0;31mImportError\u001b[0m                               Traceback (most recent call last)",
      "\u001b[0;32m<ipython-input-12-6e8cadc84069>\u001b[0m in \u001b[0;36m<module>\u001b[0;34m\u001b[0m\n\u001b[1;32m      5\u001b[0m \u001b[0;32mfrom\u001b[0m \u001b[0msklearn\u001b[0m\u001b[0;34m.\u001b[0m\u001b[0mpreprocessing\u001b[0m \u001b[0;32mimport\u001b[0m \u001b[0mStandardScaler\u001b[0m\u001b[0;34m\u001b[0m\u001b[0m\n\u001b[1;32m      6\u001b[0m \u001b[0;32mimport\u001b[0m \u001b[0mpandas\u001b[0m \u001b[0;32mas\u001b[0m \u001b[0mpd\u001b[0m\u001b[0;34m\u001b[0m\u001b[0m\n\u001b[0;32m----> 7\u001b[0;31m \u001b[0;32mimport\u001b[0m \u001b[0mseaborn\u001b[0m \u001b[0;32mas\u001b[0m \u001b[0msns\u001b[0m\u001b[0;34m\u001b[0m\u001b[0m\n\u001b[0m",
      "\u001b[0;31mImportError\u001b[0m: No module named 'seaborn'"
     ]
    }
   ],
   "source": [
    "import matplotlib.pyplot as plt\n",
    "%matplotlib inline\n",
    "import numpy as np\n",
    "plt.style.use('dark_background')\n",
    "from sklearn.preprocessing import StandardScaler\n",
    "import pandas as pd\n",
    "import seaborn as sns"
   ]
  },
  {
   "cell_type": "code",
   "execution_count": 2,
   "metadata": {},
   "outputs": [],
   "source": [
    "import glob, os, sys"
   ]
  },
  {
   "cell_type": "code",
   "execution_count": 3,
   "metadata": {},
   "outputs": [
    {
     "name": "stdout",
     "output_type": "stream",
     "text": [
      "/host/workspace/RecSys2019_DeepLearning_Evaluation\n"
     ]
    }
   ],
   "source": [
    "%cd /host/workspace/RecSys2019_DeepLearning_Evaluation/"
   ]
  },
  {
   "cell_type": "markdown",
   "metadata": {},
   "source": [
    "# Math Assignments"
   ]
  },
  {
   "cell_type": "code",
   "execution_count": 5,
   "metadata": {},
   "outputs": [],
   "source": [
    "assignments = pd.read_csv('../kpoints/data/assignment_01.csv')"
   ]
  },
  {
   "cell_type": "code",
   "execution_count": 8,
   "metadata": {},
   "outputs": [
    {
     "name": "stdout",
     "output_type": "stream",
     "text": [
      "<class 'pandas.core.frame.DataFrame'>\n",
      "RangeIndex: 1358052 entries, 0 to 1358051\n",
      "Data columns (total 5 columns):\n",
      "_id          1358052 non-null object\n",
      "subject      1358051 non-null object\n",
      "student      1358052 non-null object\n",
      "submitted    1358052 non-null int64\n",
      "type         1358052 non-null object\n",
      "dtypes: int64(1), object(4)\n",
      "memory usage: 51.8+ MB\n"
     ]
    }
   ],
   "source": [
    "assignments.info()"
   ]
  },
  {
   "cell_type": "code",
   "execution_count": 10,
   "metadata": {},
   "outputs": [
    {
     "data": {
      "text/plain": [
       "count     1358051\n",
       "unique          9\n",
       "top          Math\n",
       "freq       791664\n",
       "Name: subject, dtype: object"
      ]
     },
     "execution_count": 10,
     "metadata": {},
     "output_type": "execute_result"
    }
   ],
   "source": [
    "assignments['subject'].describe()"
   ]
  },
  {
   "cell_type": "code",
   "execution_count": 11,
   "metadata": {},
   "outputs": [
    {
     "data": {
      "text/plain": [
       "array(['Math', 'English', 'Science', 'Chinese', 'Physics', 'Social',\n",
       "       'PoliticsHistory', 'GeographyBiology', 'PhysicsChemistry', nan],\n",
       "      dtype=object)"
      ]
     },
     "execution_count": 11,
     "metadata": {},
     "output_type": "execute_result"
    }
   ],
   "source": [
    "assignments['subject'].unique()"
   ]
  },
  {
   "cell_type": "code",
   "execution_count": 12,
   "metadata": {},
   "outputs": [],
   "source": [
    "math = assignments.loc[assignments['subject'] == 'Math']['_id']"
   ]
  },
  {
   "cell_type": "code",
   "execution_count": 15,
   "metadata": {},
   "outputs": [],
   "source": [
    "assignments = None"
   ]
  },
  {
   "cell_type": "markdown",
   "metadata": {},
   "source": [
    "# solutions"
   ]
  },
  {
   "cell_type": "code",
   "execution_count": 20,
   "metadata": {},
   "outputs": [],
   "source": [
    "path = '../kpoints/data'                     # use your path\n",
    "all_files = glob.glob(os.path.join(path, \"answer_sheet*.csv\"))     # advisable to use os.path.join as this makes concatenation OS independent\n",
    "\n",
    "df_from_each_file = (pd.read_csv(f) for f in all_files)\n",
    "solution   = pd.concat(df_from_each_file, ignore_index=True)\n"
   ]
  },
  {
   "cell_type": "code",
   "execution_count": 21,
   "metadata": {},
   "outputs": [
    {
     "name": "stdout",
     "output_type": "stream",
     "text": [
      "<class 'pandas.core.frame.DataFrame'>\n",
      "RangeIndex: 23426513 entries, 0 to 23426512\n",
      "Data columns (total 6 columns):\n",
      "id            object\n",
      "student       object\n",
      "problem       object\n",
      "assignment    object\n",
      "timestamp     int64\n",
      "answer        int64\n",
      "dtypes: int64(2), object(4)\n",
      "memory usage: 1.0+ GB\n"
     ]
    }
   ],
   "source": [
    "df_from_each_file = None\n",
    "solution.info()"
   ]
  },
  {
   "cell_type": "code",
   "execution_count": 24,
   "metadata": {},
   "outputs": [],
   "source": [
    "solution = pd.merge(solution, math.to_frame(), left_on='assignment', right_on='_id', how='inner')"
   ]
  },
  {
   "cell_type": "code",
   "execution_count": 28,
   "metadata": {},
   "outputs": [],
   "source": [
    "solution.drop(['_id'], axis=1, inplace=True)"
   ]
  },
  {
   "cell_type": "code",
   "execution_count": 29,
   "metadata": {},
   "outputs": [],
   "source": [
    "solution.to_csv(os.path.join(path, 'math_answer_sheet.csv'), index=False)"
   ]
  },
  {
   "cell_type": "code",
   "execution_count": 30,
   "metadata": {},
   "outputs": [
    {
     "data": {
      "text/plain": [
       "count    1.141485e+07\n",
       "mean     5.388418e-01\n",
       "std      8.211789e-01\n",
       "min     -1.000000e+00\n",
       "25%      1.000000e+00\n",
       "50%      1.000000e+00\n",
       "75%      1.000000e+00\n",
       "max      1.000000e+00\n",
       "Name: answer, dtype: float64"
      ]
     },
     "execution_count": 30,
     "metadata": {},
     "output_type": "execute_result"
    }
   ],
   "source": [
    "solution['answer'].describe()"
   ]
  },
  {
   "cell_type": "code",
   "execution_count": 34,
   "metadata": {},
   "outputs": [
    {
     "data": {
      "text/plain": [
       "(2430469, 403114)"
      ]
     },
     "execution_count": 34,
     "metadata": {},
     "output_type": "execute_result"
    }
   ],
   "source": [
    "len(solution.loc[solution['answer'] == -1]), len(solution.loc[solution['answer'] == 0])"
   ]
  },
  {
   "cell_type": "code",
   "execution_count": 5,
   "metadata": {},
   "outputs": [],
   "source": [
    "students = solution.student.unique()\n",
    "problems = solution.problem.unique()"
   ]
  },
  {
   "cell_type": "code",
   "execution_count": 7,
   "metadata": {},
   "outputs": [
    {
     "data": {
      "text/plain": [
       "(16016, 266820, 11414850)"
      ]
     },
     "execution_count": 7,
     "metadata": {},
     "output_type": "execute_result"
    }
   ],
   "source": [
    "len(students), len(problems), len(solution)"
   ]
  },
  {
   "cell_type": "code",
   "execution_count": 4,
   "metadata": {},
   "outputs": [],
   "source": [
    "solution = pd.read_csv('../kpoints/data/math_answer_sheet.csv')"
   ]
  },
  {
   "cell_type": "code",
   "execution_count": 8,
   "metadata": {},
   "outputs": [
    {
     "data": {
      "text/plain": [
       "0.0026711468765100426"
      ]
     },
     "execution_count": 8,
     "metadata": {},
     "output_type": "execute_result"
    }
   ],
   "source": [
    "11414850 / (16016 * 266820)"
   ]
  },
  {
   "cell_type": "code",
   "execution_count": 23,
   "metadata": {},
   "outputs": [
    {
     "data": {
      "text/plain": [
       "712.7154095904095"
      ]
     },
     "execution_count": 23,
     "metadata": {},
     "output_type": "execute_result"
    }
   ],
   "source": [
    "solution.groupby('student')['id'].count().mean()"
   ]
  },
  {
   "cell_type": "code",
   "execution_count": 16,
   "metadata": {},
   "outputs": [
    {
     "data": {
      "text/plain": [
       "42.78108837418485"
      ]
     },
     "execution_count": 16,
     "metadata": {},
     "output_type": "execute_result"
    }
   ],
   "source": [
    "solution.groupby('problem')['id'].count().mean()"
   ]
  },
  {
   "cell_type": "code",
   "execution_count": 24,
   "metadata": {},
   "outputs": [],
   "source": [
    "prob_count = solution.groupby('problem')['id'].count().values"
   ]
  },
  {
   "cell_type": "code",
   "execution_count": 30,
   "metadata": {},
   "outputs": [
    {
     "data": {
      "text/plain": [
       "192789"
      ]
     },
     "execution_count": 30,
     "metadata": {},
     "output_type": "execute_result"
    }
   ],
   "source": [
    "np.sum(prob_count==1)"
   ]
  },
  {
   "cell_type": "code",
   "execution_count": 31,
   "metadata": {},
   "outputs": [
    {
     "data": {
      "text/plain": [
       "11414850"
      ]
     },
     "execution_count": 31,
     "metadata": {},
     "output_type": "execute_result"
    }
   ],
   "source": [
    "np.sum(prob_count)"
   ]
  },
  {
   "cell_type": "code",
   "execution_count": 32,
   "metadata": {},
   "outputs": [
    {
     "data": {
      "text/plain": [
       "62955"
      ]
     },
     "execution_count": 32,
     "metadata": {},
     "output_type": "execute_result"
    }
   ],
   "source": [
    "np.sum(prob_count>=10)"
   ]
  },
  {
   "cell_type": "code",
   "execution_count": 33,
   "metadata": {},
   "outputs": [
    {
     "data": {
      "text/plain": [
       "59068"
      ]
     },
     "execution_count": 33,
     "metadata": {},
     "output_type": "execute_result"
    }
   ],
   "source": [
    "np.sum(prob_count>=20)"
   ]
  },
  {
   "cell_type": "code",
   "execution_count": 34,
   "metadata": {},
   "outputs": [],
   "source": [
    "solution = solution.groupby('problem').filter(lambda x: len(x) >= 20)"
   ]
  },
  {
   "cell_type": "code",
   "execution_count": 36,
   "metadata": {},
   "outputs": [
    {
     "data": {
      "text/plain": [
       "11119183"
      ]
     },
     "execution_count": 36,
     "metadata": {},
     "output_type": "execute_result"
    }
   ],
   "source": [
    "len(solution)"
   ]
  },
  {
   "cell_type": "code",
   "execution_count": 37,
   "metadata": {},
   "outputs": [
    {
     "data": {
      "text/plain": [
       "(15879, 59068)"
      ]
     },
     "execution_count": 37,
     "metadata": {},
     "output_type": "execute_result"
    }
   ],
   "source": [
    "students = solution.student.unique()\n",
    "problems = solution.problem.unique()\n",
    "len(students), len(problems)"
   ]
  },
  {
   "cell_type": "code",
   "execution_count": 38,
   "metadata": {},
   "outputs": [],
   "source": [
    "student_count = solution.groupby('student')['id'].count().values"
   ]
  },
  {
   "cell_type": "code",
   "execution_count": 40,
   "metadata": {},
   "outputs": [
    {
     "data": {
      "text/plain": [
       "13"
      ]
     },
     "execution_count": 40,
     "metadata": {},
     "output_type": "execute_result"
    }
   ],
   "source": [
    "np.sum(student_count<10)"
   ]
  },
  {
   "cell_type": "code",
   "execution_count": 41,
   "metadata": {},
   "outputs": [],
   "source": [
    "solution = solution.groupby('student').filter(lambda x: len(x) >= 20)"
   ]
  },
  {
   "cell_type": "code",
   "execution_count": 42,
   "metadata": {},
   "outputs": [
    {
     "data": {
      "text/plain": [
       "(14351, 59068, 11090636)"
      ]
     },
     "execution_count": 42,
     "metadata": {},
     "output_type": "execute_result"
    }
   ],
   "source": [
    "students = solution.student.unique()\n",
    "problems = solution.problem.unique()\n",
    "len(students), len(problems), len(solution)"
   ]
  },
  {
   "cell_type": "code",
   "execution_count": 45,
   "metadata": {},
   "outputs": [],
   "source": [
    "solution.to_csv('../kpoints/data/math_answer_sheet_filter20.csv', index=False)"
   ]
  },
  {
   "cell_type": "code",
   "execution_count": 46,
   "metadata": {},
   "outputs": [
    {
     "data": {
      "text/plain": [
       "'0.23.4'"
      ]
     },
     "execution_count": 46,
     "metadata": {},
     "output_type": "execute_result"
    }
   ],
   "source": [
    "# only keep the last one if student does problem multiple times\n",
    "pd.__version__"
   ]
  },
  {
   "cell_type": "code",
   "execution_count": 47,
   "metadata": {},
   "outputs": [],
   "source": [
    "solution.sort_values(by='timestamp', inplace=True)\n",
    "grouped_sorted = solution.groupby(['student', 'problem'], group_keys=False)\n",
    "dedup = grouped_sorted.tail(1)"
   ]
  },
  {
   "cell_type": "code",
   "execution_count": 48,
   "metadata": {},
   "outputs": [
    {
     "data": {
      "text/html": [
       "<div>\n",
       "<style scoped>\n",
       "    .dataframe tbody tr th:only-of-type {\n",
       "        vertical-align: middle;\n",
       "    }\n",
       "\n",
       "    .dataframe tbody tr th {\n",
       "        vertical-align: top;\n",
       "    }\n",
       "\n",
       "    .dataframe thead th {\n",
       "        text-align: right;\n",
       "    }\n",
       "</style>\n",
       "<table border=\"1\" class=\"dataframe\">\n",
       "  <thead>\n",
       "    <tr style=\"text-align: right;\">\n",
       "      <th></th>\n",
       "      <th>id</th>\n",
       "      <th>student</th>\n",
       "      <th>problem</th>\n",
       "      <th>assignment</th>\n",
       "      <th>timestamp</th>\n",
       "      <th>answer</th>\n",
       "    </tr>\n",
       "  </thead>\n",
       "  <tbody>\n",
       "    <tr>\n",
       "      <th>4586193</th>\n",
       "      <td>LeC33BnoDcQ7GPfXF</td>\n",
       "      <td>Joa9iwEvdYEAcxFx6</td>\n",
       "      <td>r8BehCZTtaYMzKKCS</td>\n",
       "      <td>RH6fWRGk5YmK5NWsP</td>\n",
       "      <td>1473033600</td>\n",
       "      <td>1</td>\n",
       "    </tr>\n",
       "    <tr>\n",
       "      <th>1010268</th>\n",
       "      <td>FMmCaxejQ32RdYiAC</td>\n",
       "      <td>cybMgweJfuwGF8xmP</td>\n",
       "      <td>a3aR2bAH6oPFPFMTk</td>\n",
       "      <td>84pmEsAihxhyy5PqA</td>\n",
       "      <td>1473033600</td>\n",
       "      <td>1</td>\n",
       "    </tr>\n",
       "    <tr>\n",
       "      <th>1010267</th>\n",
       "      <td>eoixDbNyDKhscTjq6</td>\n",
       "      <td>cybMgweJfuwGF8xmP</td>\n",
       "      <td>hxQpgG7ctXvpZojbj</td>\n",
       "      <td>84pmEsAihxhyy5PqA</td>\n",
       "      <td>1473033600</td>\n",
       "      <td>1</td>\n",
       "    </tr>\n",
       "    <tr>\n",
       "      <th>1010266</th>\n",
       "      <td>x4sMnyC3eTBovWXmQ</td>\n",
       "      <td>cybMgweJfuwGF8xmP</td>\n",
       "      <td>hiXM7eFngMjwJMxbN</td>\n",
       "      <td>84pmEsAihxhyy5PqA</td>\n",
       "      <td>1473033600</td>\n",
       "      <td>1</td>\n",
       "    </tr>\n",
       "    <tr>\n",
       "      <th>1010265</th>\n",
       "      <td>apBgA8Y57NMuEoXnr</td>\n",
       "      <td>cybMgweJfuwGF8xmP</td>\n",
       "      <td>3NPKgLQdnkEwERcKt</td>\n",
       "      <td>84pmEsAihxhyy5PqA</td>\n",
       "      <td>1473033600</td>\n",
       "      <td>1</td>\n",
       "    </tr>\n",
       "  </tbody>\n",
       "</table>\n",
       "</div>"
      ],
      "text/plain": [
       "                        id            student            problem  \\\n",
       "4586193  LeC33BnoDcQ7GPfXF  Joa9iwEvdYEAcxFx6  r8BehCZTtaYMzKKCS   \n",
       "1010268  FMmCaxejQ32RdYiAC  cybMgweJfuwGF8xmP  a3aR2bAH6oPFPFMTk   \n",
       "1010267  eoixDbNyDKhscTjq6  cybMgweJfuwGF8xmP  hxQpgG7ctXvpZojbj   \n",
       "1010266  x4sMnyC3eTBovWXmQ  cybMgweJfuwGF8xmP  hiXM7eFngMjwJMxbN   \n",
       "1010265  apBgA8Y57NMuEoXnr  cybMgweJfuwGF8xmP  3NPKgLQdnkEwERcKt   \n",
       "\n",
       "                assignment   timestamp  answer  \n",
       "4586193  RH6fWRGk5YmK5NWsP  1473033600       1  \n",
       "1010268  84pmEsAihxhyy5PqA  1473033600       1  \n",
       "1010267  84pmEsAihxhyy5PqA  1473033600       1  \n",
       "1010266  84pmEsAihxhyy5PqA  1473033600       1  \n",
       "1010265  84pmEsAihxhyy5PqA  1473033600       1  "
      ]
     },
     "execution_count": 48,
     "metadata": {},
     "output_type": "execute_result"
    }
   ],
   "source": [
    "dedup.head()"
   ]
  },
  {
   "cell_type": "code",
   "execution_count": 50,
   "metadata": {},
   "outputs": [
    {
     "data": {
      "text/plain": [
       "(11064851, 11090636)"
      ]
     },
     "execution_count": 50,
     "metadata": {},
     "output_type": "execute_result"
    }
   ],
   "source": [
    "len(dedup), len(solution)"
   ]
  },
  {
   "cell_type": "code",
   "execution_count": 53,
   "metadata": {},
   "outputs": [
    {
     "name": "stderr",
     "output_type": "stream",
     "text": [
      "/usr/local/lib/python3.5/dist-packages/ipykernel_launcher.py:2: SettingWithCopyWarning: \n",
      "A value is trying to be set on a copy of a slice from a DataFrame.\n",
      "Try using .loc[row_indexer,col_indexer] = value instead\n",
      "\n",
      "See the caveats in the documentation: http://pandas.pydata.org/pandas-docs/stable/indexing.html#indexing-view-versus-copy\n",
      "  \n",
      "/usr/local/lib/python3.5/dist-packages/ipykernel_launcher.py:3: SettingWithCopyWarning: \n",
      "A value is trying to be set on a copy of a slice from a DataFrame.\n",
      "Try using .loc[row_indexer,col_indexer] = value instead\n",
      "\n",
      "See the caveats in the documentation: http://pandas.pydata.org/pandas-docs/stable/indexing.html#indexing-view-versus-copy\n",
      "  This is separate from the ipykernel package so we can avoid doing imports until\n"
     ]
    }
   ],
   "source": [
    "solution = dedup\n",
    "solution['student'], students = pd.factorize(solution['student'])\n",
    "solution['problem'], problems = pd.factorize(solution['problem'])"
   ]
  },
  {
   "cell_type": "code",
   "execution_count": 54,
   "metadata": {},
   "outputs": [
    {
     "data": {
      "text/html": [
       "<div>\n",
       "<style scoped>\n",
       "    .dataframe tbody tr th:only-of-type {\n",
       "        vertical-align: middle;\n",
       "    }\n",
       "\n",
       "    .dataframe tbody tr th {\n",
       "        vertical-align: top;\n",
       "    }\n",
       "\n",
       "    .dataframe thead th {\n",
       "        text-align: right;\n",
       "    }\n",
       "</style>\n",
       "<table border=\"1\" class=\"dataframe\">\n",
       "  <thead>\n",
       "    <tr style=\"text-align: right;\">\n",
       "      <th></th>\n",
       "      <th>id</th>\n",
       "      <th>student</th>\n",
       "      <th>problem</th>\n",
       "      <th>assignment</th>\n",
       "      <th>timestamp</th>\n",
       "      <th>answer</th>\n",
       "    </tr>\n",
       "  </thead>\n",
       "  <tbody>\n",
       "    <tr>\n",
       "      <th>4586193</th>\n",
       "      <td>LeC33BnoDcQ7GPfXF</td>\n",
       "      <td>0</td>\n",
       "      <td>0</td>\n",
       "      <td>RH6fWRGk5YmK5NWsP</td>\n",
       "      <td>1473033600</td>\n",
       "      <td>1</td>\n",
       "    </tr>\n",
       "    <tr>\n",
       "      <th>1010268</th>\n",
       "      <td>FMmCaxejQ32RdYiAC</td>\n",
       "      <td>1</td>\n",
       "      <td>1</td>\n",
       "      <td>84pmEsAihxhyy5PqA</td>\n",
       "      <td>1473033600</td>\n",
       "      <td>1</td>\n",
       "    </tr>\n",
       "    <tr>\n",
       "      <th>1010267</th>\n",
       "      <td>eoixDbNyDKhscTjq6</td>\n",
       "      <td>1</td>\n",
       "      <td>2</td>\n",
       "      <td>84pmEsAihxhyy5PqA</td>\n",
       "      <td>1473033600</td>\n",
       "      <td>1</td>\n",
       "    </tr>\n",
       "    <tr>\n",
       "      <th>1010266</th>\n",
       "      <td>x4sMnyC3eTBovWXmQ</td>\n",
       "      <td>1</td>\n",
       "      <td>3</td>\n",
       "      <td>84pmEsAihxhyy5PqA</td>\n",
       "      <td>1473033600</td>\n",
       "      <td>1</td>\n",
       "    </tr>\n",
       "    <tr>\n",
       "      <th>1010265</th>\n",
       "      <td>apBgA8Y57NMuEoXnr</td>\n",
       "      <td>1</td>\n",
       "      <td>4</td>\n",
       "      <td>84pmEsAihxhyy5PqA</td>\n",
       "      <td>1473033600</td>\n",
       "      <td>1</td>\n",
       "    </tr>\n",
       "  </tbody>\n",
       "</table>\n",
       "</div>"
      ],
      "text/plain": [
       "                        id  student  problem         assignment   timestamp  \\\n",
       "4586193  LeC33BnoDcQ7GPfXF        0        0  RH6fWRGk5YmK5NWsP  1473033600   \n",
       "1010268  FMmCaxejQ32RdYiAC        1        1  84pmEsAihxhyy5PqA  1473033600   \n",
       "1010267  eoixDbNyDKhscTjq6        1        2  84pmEsAihxhyy5PqA  1473033600   \n",
       "1010266  x4sMnyC3eTBovWXmQ        1        3  84pmEsAihxhyy5PqA  1473033600   \n",
       "1010265  apBgA8Y57NMuEoXnr        1        4  84pmEsAihxhyy5PqA  1473033600   \n",
       "\n",
       "         answer  \n",
       "4586193       1  \n",
       "1010268       1  \n",
       "1010267       1  \n",
       "1010266       1  \n",
       "1010265       1  "
      ]
     },
     "execution_count": 54,
     "metadata": {},
     "output_type": "execute_result"
    }
   ],
   "source": [
    "solution.head()"
   ]
  },
  {
   "cell_type": "code",
   "execution_count": 55,
   "metadata": {},
   "outputs": [
    {
     "data": {
      "text/html": [
       "<div>\n",
       "<style scoped>\n",
       "    .dataframe tbody tr th:only-of-type {\n",
       "        vertical-align: middle;\n",
       "    }\n",
       "\n",
       "    .dataframe tbody tr th {\n",
       "        vertical-align: top;\n",
       "    }\n",
       "\n",
       "    .dataframe thead th {\n",
       "        text-align: right;\n",
       "    }\n",
       "</style>\n",
       "<table border=\"1\" class=\"dataframe\">\n",
       "  <thead>\n",
       "    <tr style=\"text-align: right;\">\n",
       "      <th></th>\n",
       "      <th>id</th>\n",
       "      <th>student</th>\n",
       "      <th>problem</th>\n",
       "      <th>assignment</th>\n",
       "      <th>timestamp</th>\n",
       "      <th>answer</th>\n",
       "    </tr>\n",
       "  </thead>\n",
       "  <tbody>\n",
       "    <tr>\n",
       "      <th>8546286</th>\n",
       "      <td>ysnGxqCSzucKtkAdW</td>\n",
       "      <td>591</td>\n",
       "      <td>59066</td>\n",
       "      <td>GrtFCcngsvQ24Gd3S</td>\n",
       "      <td>1571529600</td>\n",
       "      <td>-1</td>\n",
       "    </tr>\n",
       "    <tr>\n",
       "      <th>3239309</th>\n",
       "      <td>C4P9NiWuQ6H3WCza8</td>\n",
       "      <td>508</td>\n",
       "      <td>59067</td>\n",
       "      <td>PqEMgopofpof73PyF</td>\n",
       "      <td>1571529600</td>\n",
       "      <td>1</td>\n",
       "    </tr>\n",
       "    <tr>\n",
       "      <th>8546287</th>\n",
       "      <td>LbRN84TotYNq7LEZA</td>\n",
       "      <td>591</td>\n",
       "      <td>59065</td>\n",
       "      <td>GrtFCcngsvQ24Gd3S</td>\n",
       "      <td>1571529600</td>\n",
       "      <td>1</td>\n",
       "    </tr>\n",
       "    <tr>\n",
       "      <th>8062664</th>\n",
       "      <td>rjKpbEgd6HdMJhxXj</td>\n",
       "      <td>790</td>\n",
       "      <td>59066</td>\n",
       "      <td>u2pJeqEpYWdduD7KB</td>\n",
       "      <td>1571529600</td>\n",
       "      <td>1</td>\n",
       "    </tr>\n",
       "    <tr>\n",
       "      <th>8795405</th>\n",
       "      <td>zJSDr9EzYC7Drhgxt</td>\n",
       "      <td>564</td>\n",
       "      <td>59065</td>\n",
       "      <td>JybvFJefJ2xcCXP9k</td>\n",
       "      <td>1571529600</td>\n",
       "      <td>-1</td>\n",
       "    </tr>\n",
       "  </tbody>\n",
       "</table>\n",
       "</div>"
      ],
      "text/plain": [
       "                        id  student  problem         assignment   timestamp  \\\n",
       "8546286  ysnGxqCSzucKtkAdW      591    59066  GrtFCcngsvQ24Gd3S  1571529600   \n",
       "3239309  C4P9NiWuQ6H3WCza8      508    59067  PqEMgopofpof73PyF  1571529600   \n",
       "8546287  LbRN84TotYNq7LEZA      591    59065  GrtFCcngsvQ24Gd3S  1571529600   \n",
       "8062664  rjKpbEgd6HdMJhxXj      790    59066  u2pJeqEpYWdduD7KB  1571529600   \n",
       "8795405  zJSDr9EzYC7Drhgxt      564    59065  JybvFJefJ2xcCXP9k  1571529600   \n",
       "\n",
       "         answer  \n",
       "8546286      -1  \n",
       "3239309       1  \n",
       "8546287       1  \n",
       "8062664       1  \n",
       "8795405      -1  "
      ]
     },
     "execution_count": 55,
     "metadata": {},
     "output_type": "execute_result"
    }
   ],
   "source": [
    "solution.tail()"
   ]
  },
  {
   "cell_type": "code",
   "execution_count": 57,
   "metadata": {},
   "outputs": [
    {
     "name": "stdout",
     "output_type": "stream",
     "text": [
      "Creating list of items for each user\n"
     ]
    },
    {
     "name": "stderr",
     "output_type": "stream",
     "text": [
      "/usr/local/lib/python3.5/dist-packages/ipykernel_launcher.py:5: SettingWithCopyWarning: \n",
      "A value is trying to be set on a copy of a slice from a DataFrame\n",
      "\n",
      "See the caveats in the documentation: http://pandas.pydata.org/pandas-docs/stable/indexing.html#indexing-view-versus-copy\n",
      "  \"\"\"\n"
     ]
    }
   ],
   "source": [
    "\n",
    "\n",
    "print(\"Creating list of items for each user\")\n",
    "# Need to sort before popping to get last item\n",
    "solution.sort_values(by='timestamp', inplace=True)\n",
    "\n",
    "del solution['id']\n",
    "del solution['assignment']\n"
   ]
  },
  {
   "cell_type": "code",
   "execution_count": 106,
   "metadata": {},
   "outputs": [],
   "source": [
    "solution.to_csv('../kpoints/data/math_answer_sheet_before_split.csv', index=False)\n",
    "pd.DataFrame(students, columns=['student']).to_csv('../kpoints/data/student_dictionary.csv', index=False)\n",
    "pd.DataFrame(problems, columns=['problem']).to_csv('../kpoints/data/problem_dictionary.csv', index=False)"
   ]
  },
  {
   "cell_type": "markdown",
   "metadata": {},
   "source": [
    "# split train/val/test"
   ]
  },
  {
   "cell_type": "code",
   "execution_count": 107,
   "metadata": {},
   "outputs": [],
   "source": [
    "solution = pd.read_csv('../kpoints/data/math_answer_sheet_before_split.csv')\n",
    "solution.sort_values(by='timestamp', inplace=True)\n",
    "\n",
    "# 10% testing, 10% validation\n",
    "# now we have filtered and sorted by time data, we can split test data out\n",
    "def get10(x):\n",
    "    return max(1, int(len(x)*0.1))\n",
    "\n",
    "grouped_sorted = solution.groupby('student', group_keys=False)\n",
    "test_data = grouped_sorted.apply(lambda x: x.iloc[-get10(x):]).sort_values(by=['student', 'problem'])\n",
    "val_data = grouped_sorted.apply(lambda x: x.iloc[-2*get10(x):-get10(x)]).sort_values(by=['student', 'problem'])\n",
    "train_data = grouped_sorted.apply(lambda x: x.iloc[:-2*get10(x)]).sort_values(by=['student', 'problem'])\n"
   ]
  },
  {
   "cell_type": "code",
   "execution_count": 108,
   "metadata": {},
   "outputs": [
    {
     "data": {
      "text/plain": [
       "1101234"
      ]
     },
     "execution_count": 108,
     "metadata": {},
     "output_type": "execute_result"
    }
   ],
   "source": [
    "len(test_data)"
   ]
  },
  {
   "cell_type": "code",
   "execution_count": 109,
   "metadata": {},
   "outputs": [
    {
     "data": {
      "text/plain": [
       "(11064851, 11064851)"
      ]
     },
     "execution_count": 109,
     "metadata": {},
     "output_type": "execute_result"
    }
   ],
   "source": [
    "# sanity check, is there overlap, does problem in test/val appear in train?\n",
    "len(test_data) + len(val_data) + len(train_data), len(solution)"
   ]
  },
  {
   "cell_type": "code",
   "execution_count": 136,
   "metadata": {},
   "outputs": [],
   "source": [
    "def filter_raw_problem(train_data, test_data, cnt):\n",
    "    test_prob = pd.factorize(test_data['problem'])[1]\n",
    "    test_prob = test_prob.to_frame(index=False).rename(columns={0: \"test_problem\"})\n",
    "    train_test_overlap = train_data.merge(test_prob, left_on='problem', right_on='test_problem', how='outer',  suffixes=('_x', '_y'))\n",
    "    joined = train_test_overlap[train_test_overlap.test_problem.notnull()]\n",
    "    filtered = joined.groupby('test_problem').filter(lambda x: len(x) >= cnt)\n",
    "    filtered_prob = pd.factorize(filtered['test_problem'])[1]\n",
    "    filtered_prob = filtered_prob.to_frame(index=False).rename(columns={0: \"test_problem\"})\n",
    "    print('left {} problems out {} '.format(len(filtered_prob), len(test_prob)))\n",
    "    filtered_test_data = test_data.merge(filtered_prob, left_on='problem', right_on='test_problem', how='inner',  suffixes=('', '_y'))\n",
    "    print('left {} out of {}'.format(len(filtered_test_data), len(test_data)))\n",
    "    del filtered_test_data['test_problem']\n",
    "    return filtered_test_data\n"
   ]
  },
  {
   "cell_type": "code",
   "execution_count": 139,
   "metadata": {},
   "outputs": [
    {
     "name": "stdout",
     "output_type": "stream",
     "text": [
      "left 32276 problems out 34635 \n",
      "left 968671 out of 1101234\n",
      "left 37687 problems out 39900 \n",
      "left 1067370 out of 1101234\n"
     ]
    }
   ],
   "source": [
    "test_data = filter_raw_problem(train_data, test_data, 5)\n",
    "val_data = filter_raw_problem(train_data, val_data, 5)"
   ]
  },
  {
   "cell_type": "code",
   "execution_count": 140,
   "metadata": {},
   "outputs": [],
   "source": [
    "# let switch val and test\n",
    "train_data.to_csv('../kpoints/data/math_train.csv', index=False)\n",
    "val_data.to_csv('../kpoints/data/math_test.csv', index=False)\n",
    "test_data.to_csv('../kpoints/data/math_val.csv', index=False)\n"
   ]
  },
  {
   "cell_type": "code",
   "execution_count": 143,
   "metadata": {},
   "outputs": [
    {
     "data": {
      "text/plain": [
       "215631"
      ]
     },
     "execution_count": 143,
     "metadata": {},
     "output_type": "execute_result"
    }
   ],
   "source": [
    "len(val_data[val_data.answer == -1])"
   ]
  },
  {
   "cell_type": "code",
   "execution_count": 144,
   "metadata": {},
   "outputs": [
    {
     "data": {
      "text/plain": [
       "student           14350\n",
       "problem           59064\n",
       "timestamp    1571356800\n",
       "answer                1\n",
       "dtype: int64"
      ]
     },
     "execution_count": 144,
     "metadata": {},
     "output_type": "execute_result"
    }
   ],
   "source": [
    "val_data.max()"
   ]
  },
  {
   "cell_type": "code",
   "execution_count": 162,
   "metadata": {},
   "outputs": [],
   "source": [
    "fixed = (train_data.answer.values != 1).astype(np.float32)"
   ]
  },
  {
   "cell_type": "code",
   "execution_count": 163,
   "metadata": {},
   "outputs": [
    {
     "data": {
      "text/plain": [
       "(6702235, 2160148, (8862383,))"
      ]
     },
     "execution_count": 163,
     "metadata": {},
     "output_type": "execute_result"
    }
   ],
   "source": [
    "np.sum(fixed == 0), np.sum(fixed == 1), fixed.shape"
   ]
  },
  {
   "cell_type": "code",
   "execution_count": 152,
   "metadata": {},
   "outputs": [
    {
     "data": {
      "text/html": [
       "<div>\n",
       "<style scoped>\n",
       "    .dataframe tbody tr th:only-of-type {\n",
       "        vertical-align: middle;\n",
       "    }\n",
       "\n",
       "    .dataframe tbody tr th {\n",
       "        vertical-align: top;\n",
       "    }\n",
       "\n",
       "    .dataframe thead th {\n",
       "        text-align: right;\n",
       "    }\n",
       "</style>\n",
       "<table border=\"1\" class=\"dataframe\">\n",
       "  <thead>\n",
       "    <tr style=\"text-align: right;\">\n",
       "      <th></th>\n",
       "      <th>student</th>\n",
       "      <th>problem</th>\n",
       "      <th>timestamp</th>\n",
       "      <th>answer</th>\n",
       "    </tr>\n",
       "  </thead>\n",
       "  <tbody>\n",
       "    <tr>\n",
       "      <th>0</th>\n",
       "      <td>0</td>\n",
       "      <td>0</td>\n",
       "      <td>1473033600</td>\n",
       "      <td>1</td>\n",
       "    </tr>\n",
       "    <tr>\n",
       "      <th>625</th>\n",
       "      <td>0</td>\n",
       "      <td>1</td>\n",
       "      <td>1473033600</td>\n",
       "      <td>1</td>\n",
       "    </tr>\n",
       "    <tr>\n",
       "      <th>649</th>\n",
       "      <td>0</td>\n",
       "      <td>2</td>\n",
       "      <td>1473033600</td>\n",
       "      <td>1</td>\n",
       "    </tr>\n",
       "    <tr>\n",
       "      <th>621</th>\n",
       "      <td>0</td>\n",
       "      <td>3</td>\n",
       "      <td>1473033600</td>\n",
       "      <td>1</td>\n",
       "    </tr>\n",
       "    <tr>\n",
       "      <th>420</th>\n",
       "      <td>0</td>\n",
       "      <td>4</td>\n",
       "      <td>1473033600</td>\n",
       "      <td>1</td>\n",
       "    </tr>\n",
       "  </tbody>\n",
       "</table>\n",
       "</div>"
      ],
      "text/plain": [
       "     student  problem   timestamp  answer\n",
       "0          0        0  1473033600       1\n",
       "625        0        1  1473033600       1\n",
       "649        0        2  1473033600       1\n",
       "621        0        3  1473033600       1\n",
       "420        0        4  1473033600       1"
      ]
     },
     "execution_count": 152,
     "metadata": {},
     "output_type": "execute_result"
    }
   ],
   "source": [
    "train_data.head()"
   ]
  },
  {
   "cell_type": "code",
   "execution_count": null,
   "metadata": {},
   "outputs": [],
   "source": []
  }
 ],
 "metadata": {
  "kernelspec": {
   "display_name": "Python 3",
   "language": "python",
   "name": "python3"
  },
  "language_info": {
   "codemirror_mode": {
    "name": "ipython",
    "version": 3
   },
   "file_extension": ".py",
   "mimetype": "text/x-python",
   "name": "python",
   "nbconvert_exporter": "python",
   "pygments_lexer": "ipython3",
   "version": "3.5.2"
  }
 },
 "nbformat": 4,
 "nbformat_minor": 2
}
